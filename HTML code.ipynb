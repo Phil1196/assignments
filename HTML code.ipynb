{
 "cells": [
  {
   "cell_type": "code",
   "execution_count": null,
   "metadata": {},
   "outputs": [],
   "source": [
    "\"Hidden and non-working HTML code on Github. These lines are placed directly on top of each section header.\"\n",
    "\n",
    "\"Reference to section one.\"\n",
    "<a id='Section I. The Production Function'></a>\n",
    "\n",
    "\n",
    "\"Reference to section two.\"\n",
    "<a id='Section II. - Innovation'></a>\n",
    "\n",
    "\"Reference to section three.\"\n",
    "<a id='Section III. - Long-Term Growth'></a>\n",
    "\n",
    "\"Reference to section four.\"\n",
    "<a id='Section IV. - Sensitivity Analysis'></a>"
   ]
  }
 ],
 "metadata": {
  "kernelspec": {
   "display_name": "Python 3",
   "language": "python",
   "name": "python3"
  },
  "language_info": {
   "codemirror_mode": {
    "name": "ipython",
    "version": 3
   },
   "file_extension": ".py",
   "mimetype": "text/x-python",
   "name": "python",
   "nbconvert_exporter": "python",
   "pygments_lexer": "ipython3",
   "version": "3.5.3"
  }
 },
 "nbformat": 4,
 "nbformat_minor": 2
}
